{
 "cells": [
  {
   "cell_type": "code",
   "execution_count": 1,
   "metadata": {},
   "outputs": [],
   "source": [
    "import numpy as np\n",
    "import matplotlib.pyplot as plt"
   ]
  },
  {
   "cell_type": "markdown",
   "metadata": {},
   "source": [
    "> Enter the coordinates below"
   ]
  },
  {
   "cell_type": "code",
   "execution_count": 2,
   "metadata": {},
   "outputs": [],
   "source": [
    "coordinates = [[0.1, 0.345], [0.8, 0.24], [3.9/4.5, 0]]"
   ]
  },
  {
   "cell_type": "code",
   "execution_count": 3,
   "metadata": {},
   "outputs": [],
   "source": [
    "def linear_equation_solver(i, j):\n",
    "    a = np.array([[coordinates[i][0] ** 2, coordinates[i][0]], [coordinates[j][0] ** 2, coordinates[j][0]]])\n",
    "    b = np.array([coordinates[i][1], coordinates[j][1]])\n",
    "\n",
    "    sol = np.linalg.solve(a, b)\n",
    "    sol[0] = round(sol[0], 3) # rounded upto 3 decimal places\n",
    "    sol[1] = round(sol[1], 3)\n",
    "    print(sol)\n",
    "\n",
    "    return sol\n"
   ]
  },
  {
   "cell_type": "code",
   "execution_count": 4,
   "metadata": {},
   "outputs": [
    {
     "name": "stdout",
     "output_type": "stream",
     "text": [
      "[-4.5  3.9]\n",
      "[-4.5  3.9]\n",
      "trajectory exists\n"
     ]
    }
   ],
   "source": [
    "a = 1\n",
    "res1 = list(linear_equation_solver(0, 1))\n",
    "res2 = list(linear_equation_solver(1, 2))\n",
    "if (res1 != res2):\n",
    "    a = -1\n",
    "    print(\"No such trajectory exists\")\n",
    "else:\n",
    "    for c in coordinates: ## (coordinates must lie on quadrant-1)\n",
    "        if(c[0] < 0 or c[1] < 0):\n",
    "            a = -1\n",
    "            break\n",
    "    if (a == 1):\n",
    "       print(\"trajectory exists\")\n",
    "    else:\n",
    "        print(\"No such trajectory exists\")\n",
    "\n",
    "# print(a)"
   ]
  },
  {
   "cell_type": "markdown",
   "metadata": {},
   "source": [
    "<img src=\"1.jpeg\" alt=\"analogy\">"
   ]
  },
  {
   "cell_type": "markdown",
   "metadata": {},
   "source": [
    "> plot of the parabola"
   ]
  },
  {
   "cell_type": "code",
   "execution_count": 5,
   "metadata": {},
   "outputs": [
    {
     "data": {
      "image/png": "[encoded data removed]",
      "text/plain": [
       "<Figure size 432x288 with 1 Axes>"
      ]
     },
     "metadata": {
      "needs_background": "light"
     },
     "output_type": "display_data"
    }
   ],
   "source": [
    "from cProfile import label\n",
    "from turtle import color\n",
    "\n",
    "\n",
    "if (res1 == res2):\n",
    "    x = np.linspace(0, -(res1[1]/ res1[0]), 100000)\n",
    "    y = res1[0] * (x ** 2) + res1[1] * x\n",
    "    plt.plot(x, y, label = \"Projectile\" + \", y = \" + str(res1[0]) + \"x^2 + \" + str(res1[1]) + \"x\", color = \"blue\")\n",
    "    plt.plot([coordinates[i][0] for i in range(0, 3)],[coordinates[i][1] for i in range(0, 3)], 'r.')\n",
    "    for i in range(0, 3):\n",
    "       plt.text(coordinates[i][0], coordinates[i][1],'({}, {})'.format(coordinates[i][0], coordinates[i][1]))\n",
    "    plt.legend()\n",
    "    plt.show()"
   ]
  },
  {
   "cell_type": "markdown",
   "metadata": {},
   "source": [
    "Best fit curve(parabola) for the given coordinates"
   ]
  },
  {
   "cell_type": "code",
   "execution_count": 119,
   "metadata": {},
   "outputs": [],
   "source": [
    "# from scipy import optimize\n",
    "\n",
    "# # Assuming that the point of trajectory is fixed\n",
    "\n",
    "# def func(x, a, b):\n",
    "#     return a * (x * x) + b * x\n",
    "\n"
   ]
  }
 ],
 "metadata": {
  "kernelspec": {
   "display_name": "Python 3 (ipykernel)",
   "language": "python",
   "name": "python3"
  },
  "language_info": {
   "codemirror_mode": {
    "name": "ipython",
    "version": 3
   },
   "file_extension": ".py",
   "mimetype": "text/x-python",
   "name": "python",
   "nbconvert_exporter": "python",
   "pygments_lexer": "ipython3",
   "version": "3.9.12"
  },
  "vscode": {
   "interpreter": {
    "hash": "916dbcbb3f70747c44a77c7bcd40155683ae19c65e1c03b4aa3499c5328201f1"
   }
  }
 },
 "nbformat": 4,
 "nbformat_minor": 4
}
